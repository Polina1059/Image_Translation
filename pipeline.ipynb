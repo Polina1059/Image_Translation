{
  "cells": [
    {
      "cell_type": "code",
      "execution_count": null,
      "metadata": {
        "colab": {
          "base_uri": "https://localhost:8080/"
        },
        "id": "vKF7QUFMqvDj",
        "outputId": "2a0290e8-ed88-4d53-b3b4-98a21ccc4531"
      },
      "outputs": [],
      "source": [
        "# # !pip install pytesseract\n",
        "# !pip install easyocr\n",
        "# !pip install googletrans==3.1.0a0\n",
        "# !pip install chinese"
      ]
    },
    {
      "cell_type": "code",
      "execution_count": 2,
      "metadata": {
        "id": "jHRe8919wBnd"
      },
      "outputs": [],
      "source": [
        "import os\n",
        "# import pytesseract\n",
        "import easyocr\n",
        "import cv2\n",
        "import numpy as np\n",
        "import pandas as pd\n",
        "import matplotlib.pyplot as plt\n",
        "from tqdm import tqdm\n",
        "from googletrans import Translator\n",
        "from chinese import ChineseAnalyzer\n",
        "from google.colab.patches import cv2_imshow\n",
        "from PIL import Image, ImageDraw, ImageFont\n",
        "\n",
        "try: \n",
        "    from PIL import Image\n",
        "except ImportError:\n",
        "    import Image"
      ]
    },
    {
      "cell_type": "code",
      "execution_count": 3,
      "metadata": {
        "colab": {
          "base_uri": "https://localhost:8080/"
        },
        "id": "robWrn_19AVR",
        "outputId": "c763de27-7c3c-46a8-c0c2-6c5436084920"
      },
      "outputs": [
        {
          "name": "stdout",
          "output_type": "stream",
          "text": [
            "Mounted at /content/drive/\n"
          ]
        }
      ],
      "source": [
        "from google.colab import drive\n",
        "drive.mount('/content/drive/')"
      ]
    },
    {
      "cell_type": "code",
      "execution_count": 4,
      "metadata": {
        "id": "txJzDxdwthDd"
      },
      "outputs": [],
      "source": [
        "def text_wrap_by_width(text, font, max_width, trans_lang, analyzer=None):\n",
        "    \"\"\"Wrap text basing on specified width. \n",
        "        text: text to wrap\n",
        "        font: font of the text\n",
        "        max_width: width of the bounding box to split the text with\n",
        "        trans_lang: от языка зависит, как разбивать текст на слова\n",
        "        analyzer:  для разделения китайского текста на слова\n",
        "        return: list of sub-strings \"\"\"\n",
        "\n",
        "    lines = []\n",
        "    \n",
        "    # If the text width is smaller than the image width, then no need to split\n",
        "    # just add it to the line list and return\n",
        "    # font.getsize(text)[0] - width, font.getsize(text)[1] - height\n",
        "\n",
        "    if font.getsize(text)[0] <= max_width:\n",
        "        lines.append(text)\n",
        "    else:\n",
        "        #split the line by spaces to get words\n",
        "        if trans_lang == 'zh-cn':\n",
        "          words = analyzer.parse(text).tokens()\n",
        "        else:\n",
        "          words = text.split(' ')   # список слов\n",
        "\n",
        "        # print('words: ', words)\n",
        "        i = 0   # счетчик слов\n",
        "        # append every word to a line while its width is shorter than the image width\n",
        "        while i < len(words):\n",
        "            # print(' len(words) ',  len(words))\n",
        "            line = ''\n",
        "            while i < len(words) and font.getsize(line + words[i])[0] <= max_width:\n",
        "                if trans_lang == 'zh-cn':  # если язык китайский, то не нужно добавлять пробелы между словами\n",
        "                  line = line + words[i]\n",
        "                else:\n",
        "                  line = line + words[i]+ \" \"\n",
        "                i += 1\n",
        "            if not line:\n",
        "                line = words[i]\n",
        "                i += 1\n",
        "            lines.append(line)\n",
        "    return lines"
      ]
    },
    {
      "cell_type": "code",
      "execution_count": 5,
      "metadata": {
        "id": "7qhsDlGmc8yf"
      },
      "outputs": [],
      "source": [
        "def text_wrap_by_h_w(font_path, text, max_width, max_height, trans_lang):\n",
        "  ''' Define suitable size of the font, considering given font, height and width of the bounding box '''\n",
        "\n",
        "  # т.к. в китайском нет пробелов, то разделение текста по пробелам не сработает\n",
        "  if trans_lang == 'zh-cn':  # если язык, на который переведен текст, - китайский\n",
        "    analyzer = ChineseAnalyzer()   # то инициализируем analyzer, который поможет разбить текст на слова\n",
        "    # выполним инициализацию в этой функции, до вызова функции text_wrap_by_width, т.к. инициализация занимает много времени\n",
        "    # и если делать это в text_wrap_by_width, которая вызывается много раз, то это будет занимать достаточно много времени\n",
        "  else: \n",
        "    analyzer = None\n",
        "    \n",
        "  fontsize = 5\n",
        "  font = ImageFont.truetype(font=font_path, size=fontsize)  # font of the text\n",
        "  line_height = font.getsize('hg')[1]    # значение высоты строки (измеряем высоту букв h,g)\n",
        "  wrapped_text = text_wrap_by_width(text, font, max_width, trans_lang, analyzer)\n",
        "  \n",
        "  while (line_height * len(wrapped_text)) <= max_height:\n",
        "    fontsize += 1\n",
        "    font = ImageFont.truetype(font=font_path, size=fontsize)  # font of the text\n",
        "    wrapped_text = text_wrap_by_width(text, font, max_width, trans_lang, analyzer)\n",
        "    line_height = font.getsize('hg')[1]\n",
        "\n",
        "    if (line_height * len(wrapped_text)) > max_height:\n",
        "      fontsize -= 1\n",
        "      font = ImageFont.truetype(font=font_path, size=fontsize)  # font of the text\n",
        "      wrapped_text = text_wrap_by_width(text, font, max_width, trans_lang, analyzer)\n",
        "      line_height = font.getsize('hg')[1]\n",
        "      break\n",
        "\n",
        "  return wrapped_text, font, line_height"
      ]
    },
    {
      "cell_type": "code",
      "execution_count": 6,
      "metadata": {
        "id": "n6WIvDNUkXXR"
      },
      "outputs": [],
      "source": [
        "def get_average_color(image, elem):\n",
        "  '''Get average color on the borders of bounding boxes'''\n",
        "\n",
        "  sum_all_borders = [0,0,0]\n",
        "  number_of_pixels =  2*(elem[0][2][0] - elem[0][0][0]) + 2*(elem[0][2][1] - elem[0][0][1])\n",
        "\n",
        "  y = elem[0][0][1]-2 if elem[0][0][1]-2 > 0 else 1   # проверка, не выходит ли за границы изображения\n",
        "  for x in range(elem[0][0][0], elem[0][2][0]):\n",
        "    for i in range(3):\n",
        "      sum_all_borders[i] += image.getpixel((x, y))[i]  # get the sum of pixels above the top border of bounding box\n",
        "\n",
        "  y = elem[0][2][1]+2 if elem[0][2][1]+2 < image.size[1] else image.size[1]-1\n",
        "  for x in range(elem[0][0][0], elem[0][2][0]):\n",
        "    for i in range(3):\n",
        "      # print(elem[0][2][1], image.size[1], image.size[0], y)\n",
        "      sum_all_borders[i] += image.getpixel((x, y))[i]  # get the sum of pixels under the bottom border of bounding box\n",
        "\n",
        "  x = elem[0][0][0]-2 if elem[0][0][0]-2 > 0 else 1\n",
        "  for y in range(elem[0][0][1], elem[0][2][1]): \n",
        "    for i in range(3):\n",
        "      sum_all_borders[i] += image.getpixel((x, y))[i]   # get the sum of pixels on the left border of bounding box\n",
        "\n",
        "  x = elem[0][2][0]+2 if elem[0][2][0]+2 < image.size[0] else image.size[0]-1\n",
        "  for y in range(elem[0][0][1], elem[0][2][1]): \n",
        "    for i in range(3):\n",
        "      sum_all_borders[i] += image.getpixel((x, y))[i]  # get the sum of pixels on the right border of bounding box \n",
        "\n",
        "  average_color = tuple([int(elem/number_of_pixels) for elem in sum_all_borders])\n",
        "\n",
        "  return average_color"
      ]
    },
    {
      "cell_type": "code",
      "execution_count": 17,
      "metadata": {
        "id": "brpwjnKZiK70"
      },
      "outputs": [],
      "source": [
        "def text_inpainting(image_path, font_path, text_from_image, translated_text, source_lang, trans_lang):\n",
        "  \n",
        "  image_name = image_path.split('/')[-1]  # split by '/' and take the last element of the list, which is the name of the image\n",
        "\n",
        "  image = Image.open(fp=image_path)\n",
        "  img_draw = ImageDraw.Draw(im=image)\n",
        "\n",
        "  # img_draw.rectangle([(0, 0), (image.size[0]-0.5, image.size[1]-0.5)], fill =\"white\", outline =\"red\")  # boundaries of the image\n",
        "  # img_draw.rectangle([(0, 0), (image.size[0]-0.5, image.size[1]-0.5)], outline =\"red\")\n",
        "\n",
        "  for i, elem in enumerate(text_from_image): \n",
        "    \n",
        "    # print('\\n', elem[0], translated_text[i].text, '\\n')\n",
        "\n",
        "    text = translated_text[i].text\n",
        "    \n",
        "    # elem[0] - [[x_left, y_up], [x_right, y_up], [x_right, y_down], [x_left, y_down]]; \n",
        "    # elem[0][2] - [x_right, y_down], elem[0][0] - [x_left, y_up];     \n",
        "    bb_width = elem[0][2][0] - elem[0][0][0]    # elem[0][2][0] - elem[0][0][0] = x_right - x_left\n",
        "    bb_height = elem[0][2][1] - elem[0][0][1]    # elem[0][2][1] - elem[0][0][1] = y_down - y_up\n",
        "\n",
        "    lines, font, line_height = text_wrap_by_h_w(font_path, text, bb_width, bb_height, trans_lang)\n",
        "\n",
        "    x = elem[0][0][0]\n",
        "    y = elem[0][0][1]\n",
        "\n",
        "    # img_draw.rectangle([tuple(elem[0][0]), tuple(elem[0][2])], fill =\"white\", outline =\"green\")   # boundaries of the text in image\n",
        "    \n",
        "    background_color = get_average_color(image, elem)\n",
        "    img_draw.rectangle([tuple(elem[0][0]), tuple(elem[0][2])], fill = background_color)\n",
        "    \n",
        "\n",
        "    # Define color of the text in contrast with background color\n",
        "    if background_color > (127, 127, 127):   # если ближе к белому\n",
        "      text_color = (background_color[0]-110, background_color[1]-110, background_color[2]-110)\n",
        "    else:   # если ближе к темному\n",
        "      text_color = (background_color[0]+100, background_color[1]+100, background_color[2]+100)\n",
        "\n",
        "    # (0,0,0) - black\n",
        "    # (255, 255, 255) - white\n",
        "    for line in lines:\n",
        "        img_draw.text((x,y), line, fill=text_color, font=font)\n",
        "        y = y + line_height    # update y-axis for new line \n",
        "\n",
        "  # image.show()\n",
        "  if source_lang == 'zh-cn':  # т.к. папка называется ch_sim, если оставить source_lang = 'zh-cn', путь '/content/drive/MyDrive/Универ/ocr/images/{source_lang}' не будет существовать\n",
        "   source_lang = 'ch_sim'\n",
        "  # image_name[image_name.index(\".\"):] - расширение файла после точки\n",
        "  # image_name[:image_name.index(\".\")] - имя файла без расширения\n",
        "  new_image_name = f'{image_name[:image_name.index(\".\")]}_{source_lang}-{trans_lang}_translated{image_name[image_name.index(\".\"):]}'\n",
        "  image.save(f'/content/drive/MyDrive/Универ/ocr/images/{source_lang}/{source_lang}_translated/{new_image_name}')\n",
        "                                                                 # {source_lang}-{trans_lang}_translated_{image_name}')\n",
        "  # image.save(new_image_name)"
      ]
    },
    {
      "cell_type": "code",
      "execution_count": 15,
      "metadata": {
        "id": "sRPWlPyBuGAi"
      },
      "outputs": [],
      "source": [
        "def ocr(image_path, source_lang):\n",
        "  # будет распознавать английский и другой переданный язык (поддерживает распознавание нескольких языков одновременно, английский совместим со всеми)\n",
        "  reader = easyocr.Reader(['en', source_lang], gpu=True)  \n",
        "  text_from_image = reader.readtext(image_path, detail = 1, paragraph = True, \n",
        "                                    # width_ths = 1.8\n",
        "                                    )\n",
        "  return text_from_image"
      ]
    },
    {
      "cell_type": "code",
      "execution_count": 9,
      "metadata": {
        "id": "0T8IJQFBtbz1"
      },
      "outputs": [],
      "source": [
        "def text_translation(text_from_image, source_lang, trans_lang):\n",
        "\n",
        "  translator = Translator()\n",
        "\n",
        "  translated_text= []\n",
        "  for elem in text_from_image:\n",
        "    translated_text.append(translator.translate(elem[1], src=source_lang, dest=trans_lang))  # 'zh-cn': 'chinese (simplified)', 'de': 'german', 'en': 'english', 'ru': 'russian'\n",
        "\n",
        "  return translated_text"
      ]
    },
    {
      "cell_type": "code",
      "execution_count": 10,
      "metadata": {
        "id": "P6IEU-gq5PXR"
      },
      "outputs": [],
      "source": [
        "def image_translation(image_path, source_lang, trans_lang):\n",
        "  \n",
        "  text_from_image = ocr(image_path, source_lang)\n",
        "  # print(text_from_image)\n",
        "  print('OCR is completed!')\n",
        "\n",
        "  if source_lang == 'ch_sim':\n",
        "    source_lang = 'zh-cn'\n",
        "  \n",
        "  translated_text = text_translation(text_from_image, source_lang, trans_lang)\n",
        "  \n",
        "  # for trans in translated_text:\n",
        "    # print(trans.origin)\n",
        "    # print(trans.text)\n",
        "\n",
        "  print('Text translation is completed!')\n",
        "\n",
        "  # Save recognized text and its translation\n",
        "  txt_name = f'{image_path[:image_path.rindex(\"/\")]}/txt/{image_path.split(\"/\")[-1]}.txt'\n",
        "  with open(txt_name, 'a') as f:\n",
        "\n",
        "    if os.path.getsize(txt_name) == 0:  # если изображение переводится первый раз (файл пустой), то записываем все\n",
        "      f.write('Распознанный текст: \\n')\n",
        "\n",
        "      # создание списка строк, т.к. f.write должен принимать на вход строку; .join объединяет в строку только список строк, а text_from_image - массив массивов\n",
        "      strings = [str(elem) for elem in text_from_image]  \n",
        "      f.write('\\n'.join(strings))   # сохраним распознанный текст\n",
        "      \n",
        "      f.write('\\n\\nПеревод: \\n')\n",
        "      f.write(f'{source_lang} - {trans_lang}\\n')  # с какого языка на какой выполнен перевод\n",
        "      \n",
        "      # создание списка строк, т.к. f.write должен принимать на вход строку; .join объединяет в строку только список строк\n",
        "      # а translated_text - массив объектов <googletrans.models.Translated>\n",
        "      trans_text = [trans.text for trans in translated_text]\n",
        "      f.write('\\n'.join(trans_text))   # сохраним перевод распознанного текста\n",
        "\n",
        "    else:  # если в файл уже записан какой-то перевод, то просто добавляем новый\n",
        "\n",
        "      f.write(f'\\n\\n{source_lang} - {trans_lang}\\n')  # с какого языка на какой выполнен перевод\n",
        "      \n",
        "      # создание списка строк, т.к. f.write должен принимать на вход строку; .join объединяет в строку только список строк\n",
        "      # а translated_text - массив объектов <googletrans.models.Translated>\n",
        "      trans_text = [trans.text for trans in translated_text]\n",
        "      f.write('\\n'.join(trans_text))   # сохраним перевод распознанного текста\n",
        "\n",
        "\n",
        "  # font_path = '/usr/share/fonts/truetype/liberation/LiberationSans-Bold.ttf'\n",
        "  font_path = '/content/drive/MyDrive/Универ/ocr/TIMES.TTF'\n",
        "  if trans_lang == 'zh-cn':\n",
        "    font_path = '/content/drive/MyDrive/Универ/ocr/SIMSUN.TTC'   # шрифт для китайского языка\n",
        "\n",
        "\n",
        "  text_inpainting(image_path, font_path, text_from_image, translated_text, source_lang, trans_lang)\n",
        "  print('Text inpainting is completed!')"
      ]
    },
    {
      "cell_type": "code",
      "execution_count": null,
      "metadata": {
        "colab": {
          "base_uri": "https://localhost:8080/"
        },
        "id": "w54dij3x6eqj",
        "outputId": "0563c18d-340a-45db-a67c-eadbfdc175b1"
      },
      "outputs": [
        {
          "name": "stderr",
          "output_type": "stream",
          "text": [
            "\r  0%|          | 0/18 [00:00<?, ?it/s]WARNING:easyocr.easyocr:Using CPU. Note: This module is much faster with a GPU.\n"
          ]
        },
        {
          "name": "stdout",
          "output_type": "stream",
          "text": [
            "\n",
            " /content/drive/MyDrive/Универ/ocr/images/ru/rus.jpg ru de\n",
            "OCR is completed!\n",
            "Text translation is completed!\n"
          ]
        },
        {
          "name": "stderr",
          "output_type": "stream",
          "text": [
            "\r 11%|█         | 2/18 [00:22<03:03, 11.48s/it]WARNING:easyocr.easyocr:Using CPU. Note: This module is much faster with a GPU.\n"
          ]
        },
        {
          "name": "stdout",
          "output_type": "stream",
          "text": [
            "Text inpainting is completed!\n",
            "\n",
            " /content/drive/MyDrive/Универ/ocr/images/ru/rus1.jpg ru de\n",
            "OCR is completed!\n",
            "Text translation is completed!\n"
          ]
        },
        {
          "name": "stderr",
          "output_type": "stream",
          "text": [
            "\r 17%|█▋        | 3/18 [01:06<06:12, 24.85s/it]WARNING:easyocr.easyocr:Using CPU. Note: This module is much faster with a GPU.\n"
          ]
        },
        {
          "name": "stdout",
          "output_type": "stream",
          "text": [
            "Text inpainting is completed!\n",
            "\n",
            " /content/drive/MyDrive/Универ/ocr/images/ru/rus_1.jpg ru de\n",
            "OCR is completed!\n",
            "Text translation is completed!\n"
          ]
        },
        {
          "name": "stderr",
          "output_type": "stream",
          "text": [
            "\r 22%|██▏       | 4/18 [01:34<06:05, 26.07s/it]WARNING:easyocr.easyocr:Using CPU. Note: This module is much faster with a GPU.\n"
          ]
        },
        {
          "name": "stdout",
          "output_type": "stream",
          "text": [
            "Text inpainting is completed!\n",
            "\n",
            " /content/drive/MyDrive/Универ/ocr/images/ru/rus_1_.jpg ru de\n",
            "OCR is completed!\n",
            "Text translation is completed!\n"
          ]
        },
        {
          "name": "stderr",
          "output_type": "stream",
          "text": [
            "\r 28%|██▊       | 5/18 [01:53<05:08, 23.70s/it]WARNING:easyocr.easyocr:Using CPU. Note: This module is much faster with a GPU.\n"
          ]
        },
        {
          "name": "stdout",
          "output_type": "stream",
          "text": [
            "Text inpainting is completed!\n",
            "\n",
            " /content/drive/MyDrive/Универ/ocr/images/ru/test.jpg ru de\n",
            "OCR is completed!\n",
            "Text translation is completed!\n"
          ]
        },
        {
          "name": "stderr",
          "output_type": "stream",
          "text": [
            "\r 33%|███▎      | 6/18 [02:02<03:42, 18.53s/it]WARNING:easyocr.easyocr:Using CPU. Note: This module is much faster with a GPU.\n"
          ]
        },
        {
          "name": "stdout",
          "output_type": "stream",
          "text": [
            "Text inpainting is completed!\n",
            "\n",
            " /content/drive/MyDrive/Универ/ocr/images/ru/test_rus.jpg ru de\n",
            "OCR is completed!\n",
            "Text translation is completed!\n"
          ]
        },
        {
          "name": "stderr",
          "output_type": "stream",
          "text": [
            "\r 39%|███▉      | 7/18 [02:19<03:19, 18.16s/it]WARNING:easyocr.easyocr:Using CPU. Note: This module is much faster with a GPU.\n"
          ]
        },
        {
          "name": "stdout",
          "output_type": "stream",
          "text": [
            "Text inpainting is completed!\n",
            "\n",
            " /content/drive/MyDrive/Универ/ocr/images/ru/test_rus1.jpg ru de\n",
            "OCR is completed!\n",
            "Text translation is completed!\n"
          ]
        },
        {
          "name": "stderr",
          "output_type": "stream",
          "text": [
            "\r 44%|████▍     | 8/18 [02:40<03:09, 18.99s/it]WARNING:easyocr.easyocr:Using CPU. Note: This module is much faster with a GPU.\n"
          ]
        },
        {
          "name": "stdout",
          "output_type": "stream",
          "text": [
            "Text inpainting is completed!\n",
            "\n",
            " /content/drive/MyDrive/Универ/ocr/images/ru/test_rus10.jpg ru de\n",
            "OCR is completed!\n",
            "Text translation is completed!\n"
          ]
        },
        {
          "name": "stderr",
          "output_type": "stream",
          "text": [
            "\r 50%|█████     | 9/18 [05:13<09:05, 60.58s/it]WARNING:easyocr.easyocr:Using CPU. Note: This module is much faster with a GPU.\n"
          ]
        },
        {
          "name": "stdout",
          "output_type": "stream",
          "text": [
            "Text inpainting is completed!\n",
            "\n",
            " /content/drive/MyDrive/Универ/ocr/images/ru/test_rus11.jpg ru de\n",
            "OCR is completed!\n",
            "Text translation is completed!\n"
          ]
        },
        {
          "name": "stderr",
          "output_type": "stream",
          "text": [
            "\r 56%|█████▌    | 10/18 [05:52<07:12, 54.04s/it]WARNING:easyocr.easyocr:Using CPU. Note: This module is much faster with a GPU.\n"
          ]
        },
        {
          "name": "stdout",
          "output_type": "stream",
          "text": [
            "Text inpainting is completed!\n",
            "\n",
            " /content/drive/MyDrive/Универ/ocr/images/ru/test_rus3.jpg ru de\n",
            "OCR is completed!\n",
            "Text translation is completed!\n"
          ]
        },
        {
          "name": "stderr",
          "output_type": "stream",
          "text": [
            "\r 61%|██████    | 11/18 [06:35<05:54, 50.66s/it]WARNING:easyocr.easyocr:Using CPU. Note: This module is much faster with a GPU.\n"
          ]
        },
        {
          "name": "stdout",
          "output_type": "stream",
          "text": [
            "Text inpainting is completed!\n",
            "\n",
            " /content/drive/MyDrive/Универ/ocr/images/ru/test_rus4.jpg ru de\n",
            "OCR is completed!\n",
            "Text translation is completed!\n"
          ]
        },
        {
          "name": "stderr",
          "output_type": "stream",
          "text": [
            "\r 67%|██████▋   | 12/18 [07:07<04:29, 44.86s/it]WARNING:easyocr.easyocr:Using CPU. Note: This module is much faster with a GPU.\n"
          ]
        },
        {
          "name": "stdout",
          "output_type": "stream",
          "text": [
            "Text inpainting is completed!\n",
            "\n",
            " /content/drive/MyDrive/Универ/ocr/images/ru/test_rus5.jpg ru de\n",
            "OCR is completed!\n",
            "Text translation is completed!\n"
          ]
        },
        {
          "name": "stderr",
          "output_type": "stream",
          "text": [
            "\r 72%|███████▏  | 13/18 [07:38<03:24, 40.85s/it]WARNING:easyocr.easyocr:Using CPU. Note: This module is much faster with a GPU.\n"
          ]
        },
        {
          "name": "stdout",
          "output_type": "stream",
          "text": [
            "Text inpainting is completed!\n",
            "\n",
            " /content/drive/MyDrive/Универ/ocr/images/ru/test_rus6.jpg ru de\n",
            "OCR is completed!\n",
            "Text translation is completed!\n"
          ]
        },
        {
          "name": "stderr",
          "output_type": "stream",
          "text": [
            "\r 78%|███████▊  | 14/18 [08:05<02:26, 36.51s/it]WARNING:easyocr.easyocr:Using CPU. Note: This module is much faster with a GPU.\n"
          ]
        },
        {
          "name": "stdout",
          "output_type": "stream",
          "text": [
            "Text inpainting is completed!\n",
            "\n",
            " /content/drive/MyDrive/Универ/ocr/images/ru/test_rus7.jpg ru de\n",
            "OCR is completed!\n",
            "Text translation is completed!\n"
          ]
        },
        {
          "name": "stderr",
          "output_type": "stream",
          "text": [
            "\r 83%|████████▎ | 15/18 [08:22<01:32, 30.83s/it]WARNING:easyocr.easyocr:Using CPU. Note: This module is much faster with a GPU.\n"
          ]
        },
        {
          "name": "stdout",
          "output_type": "stream",
          "text": [
            "Text inpainting is completed!\n",
            "\n",
            " /content/drive/MyDrive/Универ/ocr/images/ru/test_rus8.jpg ru de\n",
            "OCR is completed!\n",
            "Text translation is completed!\n"
          ]
        },
        {
          "name": "stderr",
          "output_type": "stream",
          "text": [
            "\r 89%|████████▉ | 16/18 [08:36<00:51, 25.77s/it]WARNING:easyocr.easyocr:Using CPU. Note: This module is much faster with a GPU.\n"
          ]
        },
        {
          "name": "stdout",
          "output_type": "stream",
          "text": [
            "Text inpainting is completed!\n",
            "\n",
            " /content/drive/MyDrive/Универ/ocr/images/ru/test_rus9.jpg ru de\n",
            "OCR is completed!\n",
            "Text translation is completed!\n"
          ]
        },
        {
          "name": "stderr",
          "output_type": "stream",
          "text": [
            "100%|██████████| 18/18 [09:16<00:00, 30.90s/it]\n"
          ]
        },
        {
          "name": "stdout",
          "output_type": "stream",
          "text": [
            "Text inpainting is completed!\n"
          ]
        },
        {
          "name": "stderr",
          "output_type": "stream",
          "text": [
            "\r  0%|          | 0/18 [00:00<?, ?it/s]WARNING:easyocr.easyocr:Using CPU. Note: This module is much faster with a GPU.\n"
          ]
        },
        {
          "name": "stdout",
          "output_type": "stream",
          "text": [
            "\n",
            " /content/drive/MyDrive/Универ/ocr/images/ru/rus.jpg ru en\n",
            "OCR is completed!\n",
            "Text translation is completed!\n"
          ]
        },
        {
          "name": "stderr",
          "output_type": "stream",
          "text": [
            "\r 11%|█         | 2/18 [00:21<02:48, 10.55s/it]WARNING:easyocr.easyocr:Using CPU. Note: This module is much faster with a GPU.\n"
          ]
        },
        {
          "name": "stdout",
          "output_type": "stream",
          "text": [
            "Text inpainting is completed!\n",
            "\n",
            " /content/drive/MyDrive/Универ/ocr/images/ru/rus1.jpg ru en\n",
            "OCR is completed!\n",
            "Text translation is completed!\n"
          ]
        },
        {
          "name": "stderr",
          "output_type": "stream",
          "text": [
            "\r 17%|█▋        | 3/18 [01:03<05:58, 23.93s/it]WARNING:easyocr.easyocr:Using CPU. Note: This module is much faster with a GPU.\n"
          ]
        },
        {
          "name": "stdout",
          "output_type": "stream",
          "text": [
            "Text inpainting is completed!\n",
            "\n",
            " /content/drive/MyDrive/Универ/ocr/images/ru/rus_1.jpg ru en\n",
            "OCR is completed!\n",
            "Text translation is completed!\n"
          ]
        },
        {
          "name": "stderr",
          "output_type": "stream",
          "text": [
            "\r 22%|██▏       | 4/18 [01:31<05:53, 25.24s/it]WARNING:easyocr.easyocr:Using CPU. Note: This module is much faster with a GPU.\n"
          ]
        },
        {
          "name": "stdout",
          "output_type": "stream",
          "text": [
            "Text inpainting is completed!\n",
            "\n",
            " /content/drive/MyDrive/Универ/ocr/images/ru/rus_1_.jpg ru en\n",
            "OCR is completed!\n",
            "Text translation is completed!\n"
          ]
        },
        {
          "name": "stderr",
          "output_type": "stream",
          "text": [
            "\r 28%|██▊       | 5/18 [01:49<04:58, 22.98s/it]WARNING:easyocr.easyocr:Using CPU. Note: This module is much faster with a GPU.\n"
          ]
        },
        {
          "name": "stdout",
          "output_type": "stream",
          "text": [
            "Text inpainting is completed!\n",
            "\n",
            " /content/drive/MyDrive/Универ/ocr/images/ru/test.jpg ru en\n",
            "OCR is completed!\n",
            "Text translation is completed!\n"
          ]
        },
        {
          "name": "stderr",
          "output_type": "stream",
          "text": [
            "\r 33%|███▎      | 6/18 [01:57<03:33, 17.75s/it]WARNING:easyocr.easyocr:Using CPU. Note: This module is much faster with a GPU.\n"
          ]
        },
        {
          "name": "stdout",
          "output_type": "stream",
          "text": [
            "Text inpainting is completed!\n",
            "\n",
            " /content/drive/MyDrive/Универ/ocr/images/ru/test_rus.jpg ru en\n",
            "OCR is completed!\n",
            "Text translation is completed!\n"
          ]
        },
        {
          "name": "stderr",
          "output_type": "stream",
          "text": [
            "\r 39%|███▉      | 7/18 [02:12<03:06, 16.97s/it]WARNING:easyocr.easyocr:Using CPU. Note: This module is much faster with a GPU.\n"
          ]
        },
        {
          "name": "stdout",
          "output_type": "stream",
          "text": [
            "Text inpainting is completed!\n",
            "\n",
            " /content/drive/MyDrive/Универ/ocr/images/ru/test_rus1.jpg ru en\n",
            "OCR is completed!\n",
            "Text translation is completed!\n"
          ]
        },
        {
          "name": "stderr",
          "output_type": "stream",
          "text": [
            "\r 44%|████▍     | 8/18 [02:32<03:00, 18.02s/it]WARNING:easyocr.easyocr:Using CPU. Note: This module is much faster with a GPU.\n"
          ]
        },
        {
          "name": "stdout",
          "output_type": "stream",
          "text": [
            "Text inpainting is completed!\n",
            "\n",
            " /content/drive/MyDrive/Универ/ocr/images/ru/test_rus10.jpg ru en\n",
            "OCR is completed!\n",
            "Text translation is completed!\n"
          ]
        },
        {
          "name": "stderr",
          "output_type": "stream",
          "text": [
            "\r 50%|█████     | 9/18 [05:03<08:52, 59.20s/it]WARNING:easyocr.easyocr:Using CPU. Note: This module is much faster with a GPU.\n"
          ]
        },
        {
          "name": "stdout",
          "output_type": "stream",
          "text": [
            "Text inpainting is completed!\n",
            "\n",
            " /content/drive/MyDrive/Универ/ocr/images/ru/test_rus11.jpg ru en\n",
            "OCR is completed!\n",
            "Text translation is completed!\n"
          ]
        },
        {
          "name": "stderr",
          "output_type": "stream",
          "text": [
            "\r 56%|█████▌    | 10/18 [05:39<06:55, 51.92s/it]WARNING:easyocr.easyocr:Using CPU. Note: This module is much faster with a GPU.\n"
          ]
        },
        {
          "name": "stdout",
          "output_type": "stream",
          "text": [
            "Text inpainting is completed!\n",
            "\n",
            " /content/drive/MyDrive/Универ/ocr/images/ru/test_rus3.jpg ru en\n",
            "OCR is completed!\n",
            "Text translation is completed!\n"
          ]
        },
        {
          "name": "stderr",
          "output_type": "stream",
          "text": [
            "\r 61%|██████    | 11/18 [06:20<05:41, 48.80s/it]WARNING:easyocr.easyocr:Using CPU. Note: This module is much faster with a GPU.\n"
          ]
        },
        {
          "name": "stdout",
          "output_type": "stream",
          "text": [
            "Text inpainting is completed!\n",
            "\n",
            " /content/drive/MyDrive/Универ/ocr/images/ru/test_rus4.jpg ru en\n",
            "OCR is completed!\n",
            "Text translation is completed!\n"
          ]
        },
        {
          "name": "stderr",
          "output_type": "stream",
          "text": [
            "\r 67%|██████▋   | 12/18 [06:51<04:19, 43.30s/it]WARNING:easyocr.easyocr:Using CPU. Note: This module is much faster with a GPU.\n"
          ]
        },
        {
          "name": "stdout",
          "output_type": "stream",
          "text": [
            "Text inpainting is completed!\n",
            "\n",
            " /content/drive/MyDrive/Универ/ocr/images/ru/test_rus5.jpg ru en\n",
            "OCR is completed!\n",
            "Text translation is completed!\n"
          ]
        },
        {
          "name": "stderr",
          "output_type": "stream",
          "text": [
            "\r 72%|███████▏  | 13/18 [07:20<03:15, 39.02s/it]WARNING:easyocr.easyocr:Using CPU. Note: This module is much faster with a GPU.\n"
          ]
        },
        {
          "name": "stdout",
          "output_type": "stream",
          "text": [
            "Text inpainting is completed!\n",
            "\n",
            " /content/drive/MyDrive/Универ/ocr/images/ru/test_rus6.jpg ru en\n",
            "OCR is completed!\n",
            "Text translation is completed!\n"
          ]
        },
        {
          "name": "stderr",
          "output_type": "stream",
          "text": [
            "\r 78%|███████▊  | 14/18 [07:46<02:20, 35.08s/it]WARNING:easyocr.easyocr:Using CPU. Note: This module is much faster with a GPU.\n"
          ]
        },
        {
          "name": "stdout",
          "output_type": "stream",
          "text": [
            "Text inpainting is completed!\n",
            "\n",
            " /content/drive/MyDrive/Универ/ocr/images/ru/test_rus7.jpg ru en\n",
            "OCR is completed!\n",
            "Text translation is completed!\n"
          ]
        },
        {
          "name": "stderr",
          "output_type": "stream",
          "text": [
            "\r 83%|████████▎ | 15/18 [08:03<01:28, 29.51s/it]WARNING:easyocr.easyocr:Using CPU. Note: This module is much faster with a GPU.\n"
          ]
        },
        {
          "name": "stdout",
          "output_type": "stream",
          "text": [
            "Text inpainting is completed!\n",
            "\n",
            " /content/drive/MyDrive/Универ/ocr/images/ru/test_rus8.jpg ru en\n",
            "OCR is completed!\n",
            "Text translation is completed!\n"
          ]
        },
        {
          "name": "stderr",
          "output_type": "stream",
          "text": [
            "\r 89%|████████▉ | 16/18 [08:16<00:49, 24.74s/it]WARNING:easyocr.easyocr:Using CPU. Note: This module is much faster with a GPU.\n"
          ]
        },
        {
          "name": "stdout",
          "output_type": "stream",
          "text": [
            "Text inpainting is completed!\n",
            "\n",
            " /content/drive/MyDrive/Универ/ocr/images/ru/test_rus9.jpg ru en\n",
            "OCR is completed!\n",
            "Text translation is completed!\n"
          ]
        },
        {
          "name": "stderr",
          "output_type": "stream",
          "text": [
            "100%|██████████| 18/18 [08:53<00:00, 29.65s/it]\n"
          ]
        },
        {
          "name": "stdout",
          "output_type": "stream",
          "text": [
            "Text inpainting is completed!\n"
          ]
        },
        {
          "name": "stderr",
          "output_type": "stream",
          "text": [
            "\r  0%|          | 0/18 [00:00<?, ?it/s]WARNING:easyocr.easyocr:Using CPU. Note: This module is much faster with a GPU.\n"
          ]
        },
        {
          "name": "stdout",
          "output_type": "stream",
          "text": [
            "\n",
            " /content/drive/MyDrive/Универ/ocr/images/ru/rus.jpg ru zh-cn\n",
            "OCR is completed!\n",
            "Text translation is completed!\n"
          ]
        },
        {
          "name": "stderr",
          "output_type": "stream",
          "text": [
            "\r 11%|█         | 2/18 [00:12<01:40,  6.29s/it]WARNING:easyocr.easyocr:Using CPU. Note: This module is much faster with a GPU.\n"
          ]
        },
        {
          "name": "stdout",
          "output_type": "stream",
          "text": [
            "Text inpainting is completed!\n",
            "\n",
            " /content/drive/MyDrive/Универ/ocr/images/ru/rus1.jpg ru zh-cn\n",
            "OCR is completed!\n",
            "Text translation is completed!\n"
          ]
        },
        {
          "name": "stderr",
          "output_type": "stream",
          "text": [
            "\r 17%|█▋        | 3/18 [00:36<03:21, 13.46s/it]WARNING:easyocr.easyocr:Using CPU. Note: This module is much faster with a GPU.\n"
          ]
        },
        {
          "name": "stdout",
          "output_type": "stream",
          "text": [
            "Text inpainting is completed!\n",
            "\n",
            " /content/drive/MyDrive/Универ/ocr/images/ru/rus_1.jpg ru zh-cn\n",
            "OCR is completed!\n",
            "Text translation is completed!\n"
          ]
        },
        {
          "name": "stderr",
          "output_type": "stream",
          "text": [
            "\r 22%|██▏       | 4/18 [00:53<03:27, 14.85s/it]WARNING:easyocr.easyocr:Using CPU. Note: This module is much faster with a GPU.\n"
          ]
        },
        {
          "name": "stdout",
          "output_type": "stream",
          "text": [
            "Text inpainting is completed!\n",
            "\n",
            " /content/drive/MyDrive/Универ/ocr/images/ru/rus_1_.jpg ru zh-cn\n",
            "OCR is completed!\n",
            "Text translation is completed!\n"
          ]
        },
        {
          "name": "stderr",
          "output_type": "stream",
          "text": [
            "\r 28%|██▊       | 5/18 [01:06<03:04, 14.19s/it]WARNING:easyocr.easyocr:Using CPU. Note: This module is much faster with a GPU.\n"
          ]
        },
        {
          "name": "stdout",
          "output_type": "stream",
          "text": [
            "Text inpainting is completed!\n",
            "\n",
            " /content/drive/MyDrive/Универ/ocr/images/ru/test.jpg ru zh-cn\n",
            "OCR is completed!\n",
            "Text translation is completed!\n"
          ]
        },
        {
          "name": "stderr",
          "output_type": "stream",
          "text": [
            "\r 33%|███▎      | 6/18 [01:16<02:32, 12.73s/it]WARNING:easyocr.easyocr:Using CPU. Note: This module is much faster with a GPU.\n"
          ]
        },
        {
          "name": "stdout",
          "output_type": "stream",
          "text": [
            "Text inpainting is completed!\n",
            "\n",
            " /content/drive/MyDrive/Универ/ocr/images/ru/test_rus.jpg ru zh-cn\n",
            "OCR is completed!\n",
            "Text translation is completed!\n"
          ]
        },
        {
          "name": "stderr",
          "output_type": "stream",
          "text": [
            "\r 39%|███▉      | 7/18 [01:30<02:27, 13.42s/it]WARNING:easyocr.easyocr:Using CPU. Note: This module is much faster with a GPU.\n"
          ]
        },
        {
          "name": "stdout",
          "output_type": "stream",
          "text": [
            "Text inpainting is completed!\n",
            "\n",
            " /content/drive/MyDrive/Универ/ocr/images/ru/test_rus1.jpg ru zh-cn\n",
            "OCR is completed!\n",
            "Text translation is completed!\n"
          ]
        },
        {
          "name": "stderr",
          "output_type": "stream",
          "text": [
            "\r 44%|████▍     | 8/18 [02:14<03:49, 22.98s/it]WARNING:easyocr.easyocr:Using CPU. Note: This module is much faster with a GPU.\n"
          ]
        },
        {
          "name": "stdout",
          "output_type": "stream",
          "text": [
            "Text inpainting is completed!\n",
            "\n",
            " /content/drive/MyDrive/Универ/ocr/images/ru/test_rus10.jpg ru zh-cn\n",
            "OCR is completed!\n",
            "Text translation is completed!\n"
          ]
        },
        {
          "name": "stderr",
          "output_type": "stream",
          "text": [
            "\r 50%|█████     | 9/18 [04:29<08:38, 57.60s/it]WARNING:easyocr.easyocr:Using CPU. Note: This module is much faster with a GPU.\n"
          ]
        },
        {
          "name": "stdout",
          "output_type": "stream",
          "text": [
            "Text inpainting is completed!\n",
            "\n",
            " /content/drive/MyDrive/Универ/ocr/images/ru/test_rus11.jpg ru zh-cn\n",
            "OCR is completed!\n",
            "Text translation is completed!\n"
          ]
        },
        {
          "name": "stderr",
          "output_type": "stream",
          "text": [
            "\r 56%|█████▌    | 10/18 [05:07<06:52, 51.57s/it]WARNING:easyocr.easyocr:Using CPU. Note: This module is much faster with a GPU.\n"
          ]
        },
        {
          "name": "stdout",
          "output_type": "stream",
          "text": [
            "Text inpainting is completed!\n",
            "\n",
            " /content/drive/MyDrive/Универ/ocr/images/ru/test_rus3.jpg ru zh-cn\n",
            "OCR is completed!\n",
            "Text translation is completed!\n"
          ]
        },
        {
          "name": "stderr",
          "output_type": "stream",
          "text": [
            "\r 61%|██████    | 11/18 [05:54<05:51, 50.26s/it]WARNING:easyocr.easyocr:Using CPU. Note: This module is much faster with a GPU.\n"
          ]
        },
        {
          "name": "stdout",
          "output_type": "stream",
          "text": [
            "Text inpainting is completed!\n",
            "\n",
            " /content/drive/MyDrive/Универ/ocr/images/ru/test_rus4.jpg ru zh-cn\n",
            "OCR is completed!\n",
            "Text translation is completed!\n"
          ]
        },
        {
          "name": "stderr",
          "output_type": "stream",
          "text": [
            "\r 67%|██████▋   | 12/18 [06:24<04:24, 44.13s/it]WARNING:easyocr.easyocr:Using CPU. Note: This module is much faster with a GPU.\n"
          ]
        },
        {
          "name": "stdout",
          "output_type": "stream",
          "text": [
            "Text inpainting is completed!\n",
            "\n",
            " /content/drive/MyDrive/Универ/ocr/images/ru/test_rus5.jpg ru zh-cn\n",
            "OCR is completed!\n",
            "Text translation is completed!\n"
          ]
        },
        {
          "name": "stderr",
          "output_type": "stream",
          "text": [
            "\r 72%|███████▏  | 13/18 [06:52<03:16, 39.20s/it]WARNING:easyocr.easyocr:Using CPU. Note: This module is much faster with a GPU.\n"
          ]
        },
        {
          "name": "stdout",
          "output_type": "stream",
          "text": [
            "Text inpainting is completed!\n",
            "\n",
            " /content/drive/MyDrive/Универ/ocr/images/ru/test_rus6.jpg ru zh-cn\n",
            "OCR is completed!\n",
            "Text translation is completed!\n"
          ]
        },
        {
          "name": "stderr",
          "output_type": "stream",
          "text": [
            "\r 78%|███████▊  | 14/18 [07:28<02:33, 38.40s/it]WARNING:easyocr.easyocr:Using CPU. Note: This module is much faster with a GPU.\n"
          ]
        },
        {
          "name": "stdout",
          "output_type": "stream",
          "text": [
            "Text inpainting is completed!\n",
            "\n",
            " /content/drive/MyDrive/Универ/ocr/images/ru/test_rus7.jpg ru zh-cn\n",
            "OCR is completed!\n",
            "Text translation is completed!\n"
          ]
        },
        {
          "name": "stderr",
          "output_type": "stream",
          "text": [
            "\r 83%|████████▎ | 15/18 [07:47<01:36, 32.28s/it]WARNING:easyocr.easyocr:Using CPU. Note: This module is much faster with a GPU.\n"
          ]
        },
        {
          "name": "stdout",
          "output_type": "stream",
          "text": [
            "Text inpainting is completed!\n",
            "\n",
            " /content/drive/MyDrive/Универ/ocr/images/ru/test_rus8.jpg ru zh-cn\n",
            "OCR is completed!\n",
            "Text translation is completed!\n"
          ]
        },
        {
          "name": "stderr",
          "output_type": "stream",
          "text": [
            "\r 89%|████████▉ | 16/18 [07:59<00:52, 26.46s/it]WARNING:easyocr.easyocr:Using CPU. Note: This module is much faster with a GPU.\n"
          ]
        },
        {
          "name": "stdout",
          "output_type": "stream",
          "text": [
            "Text inpainting is completed!\n",
            "\n",
            " /content/drive/MyDrive/Универ/ocr/images/ru/test_rus9.jpg ru zh-cn\n",
            "OCR is completed!\n",
            "Text translation is completed!\n"
          ]
        },
        {
          "name": "stderr",
          "output_type": "stream",
          "text": [
            "100%|██████████| 18/18 [08:37<00:00, 28.76s/it]"
          ]
        },
        {
          "name": "stdout",
          "output_type": "stream",
          "text": [
            "Text inpainting is completed!\n"
          ]
        },
        {
          "name": "stderr",
          "output_type": "stream",
          "text": [
            "\n"
          ]
        }
      ],
      "source": [
        "common_path = '/content/drive/MyDrive/Универ/ocr/'\n",
        "\n",
        "# с каждого языка на все другие\n",
        "# for source_lang in sorted(['ru', 'de', 'ch_sim', 'en']):\n",
        "#   for trans_lang in sorted(['de', 'zh-cn', 'en', 'ru']):\n",
        "#     if source_lang != trans_lang and not (source_lang == 'ch_sim' and trans_lang == 'zh-cn'):   # чтобы исходный язык и тот, на который нужно перевести, не были равны\n",
        "\n",
        "# чтобы перевести все изображения в папке common_path+f'images/{source_lang}' с одного языка на все другие\n",
        "source_lang = 'ru'\n",
        "for trans_lang in sorted(['de', 'zh-cn', 'en']):   \n",
        "  \n",
        "  for image_path in tqdm(sorted(os.listdir(common_path+f'images/{source_lang}'))):\n",
        "\n",
        "    if not os.path.isdir(common_path + f'images/{source_lang}/' + image_path):\n",
        "      image_path = common_path + f'images/{source_lang}/' + image_path\n",
        "\n",
        "      print('\\n', image_path, source_lang, trans_lang)\n",
        "      image_translation(image_path, source_lang, trans_lang)"
      ]
    }
  ],
  "metadata": {
    "accelerator": "GPU",
    "colab": {
      "gpuType": "T4",
      "provenance": []
    },
    "kernelspec": {
      "display_name": "Python 3",
      "name": "python3"
    },
    "language_info": {
      "codemirror_mode": {
        "name": "ipython",
        "version": 3
      },
      "file_extension": ".py",
      "mimetype": "text/x-python",
      "name": "python",
      "nbconvert_exporter": "python",
      "pygments_lexer": "ipython3",
      "version": "3.8.8"
    },
    "orig_nbformat": 4
  },
  "nbformat": 4,
  "nbformat_minor": 0
}
